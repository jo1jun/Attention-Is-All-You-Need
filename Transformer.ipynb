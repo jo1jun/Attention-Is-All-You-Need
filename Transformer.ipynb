{
  "nbformat": 4,
  "nbformat_minor": 0,
  "metadata": {
    "accelerator": "GPU",
    "colab": {
      "name": "Transformer.ipynb",
      "provenance": [],
      "collapsed_sections": [],
      "toc_visible": true,
      "include_colab_link": true
    },
    "kernelspec": {
      "display_name": "Python 3",
      "name": "python3"
    }
  },
  "cells": [
    {
      "cell_type": "markdown",
      "metadata": {
        "id": "view-in-github",
        "colab_type": "text"
      },
      "source": [
        "<a href=\"https://colab.research.google.com/github/jo1jun/Transformer/blob/main/Transformer.ipynb\" target=\"_parent\"><img src=\"https://colab.research.google.com/assets/colab-badge.svg\" alt=\"Open In Colab\"/></a>"
      ]
    },
    {
      "cell_type": "markdown",
      "metadata": {
        "id": "UACotr_VetTr"
      },
      "source": [
        "# Import, device & dtype\n"
      ]
    },
    {
      "cell_type": "code",
      "metadata": {
        "id": "SyKo5seMwjFs"
      },
      "source": [
        "import torch\n",
        "import torch.nn as nn\n",
        "import numpy as np\n",
        "import matplotlib.pyplot as plt\n",
        "\n",
        "device = torch.device('cuda' if torch.cuda.is_available() else 'cpu')\n",
        "dtype = torch.long"
      ],
      "execution_count": 332,
      "outputs": []
    },
    {
      "cell_type": "markdown",
      "metadata": {
        "id": "IKyDkhQ4UNbF"
      },
      "source": [
        "# Multi Head Attention Layer"
      ]
    },
    {
      "cell_type": "code",
      "metadata": {
        "id": "ohBIfgOJiL0a"
      },
      "source": [
        "class MultiHeadAttentionLayer(nn.Module):\n",
        "    def __init__(self, d_model, nhead, dropout_ratio):\n",
        "        super().__init__()\n",
        "\n",
        "        self.d_model = d_model # embed dimension\n",
        "        self.nhead = nhead # head 수\n",
        "        self.head_dim = d_model // nhead # head 마다의 dimension\n",
        "\n",
        "        # paper 보면 d_model * d_k 이런 shape 인데, 실제 구현에서는 d_model * d_model 하고 나온 것을 쪼개서 multi head self attention 에 들어가게 함.\n",
        "        self.qLinear = nn.Linear(d_model, d_model) # query lineqr\n",
        "        self.kLinear = nn.Linear(d_model, d_model) # key linear\n",
        "        self.vLinear = nn.Linear(d_model, d_model) # value linear\n",
        "        self.oLinear = nn.Linear(d_model, d_model) # output linear\n",
        "\n",
        "        self.dropout = nn.Dropout(dropout_ratio)\n",
        "\n",
        "    def forward(self, query, key, value, mask = None):\n",
        "\n",
        "        batch_size = query.shape[0]\n",
        "        query_len = query.shape[1]\n",
        "        value_len = key_len = key.shape[1]\n",
        "\n",
        "        # query: [batch_size, query_len, d_model]\n",
        "        # key: [batch_size, key_len, d_model]\n",
        "        # value: [batch_size, value_len, d_model]\n",
        " \n",
        "        Q = self.qLinear(query)\n",
        "        K = self.kLinear(key)\n",
        "        V = self.vLinear(value)\n",
        "\n",
        "        # Q: [batch_size, query_len, d_model]\n",
        "        # K: [batch_size, key_len, d_model]\n",
        "        # V: [batch_size, value_len, d_model]\n",
        "\n",
        "        # d_model = nhead * head_dim\n",
        "        # head 수로 distribute\n",
        "        Q = Q.reshape(batch_size, query_len, self.nhead, self.head_dim).transpose(1, 2)\n",
        "        K = K.reshape(batch_size, key_len, self.nhead, self.head_dim).transpose(1, 2)\n",
        "        V = V.reshape(batch_size, value_len, self.nhead, self.head_dim).transpose(1, 2)\n",
        "\n",
        "        # Q: [batch_size, nhead, query_len, head_dim]\n",
        "        # K: [batch_size, nhead, key_len, head_dim]\n",
        "        # V: [batch_size, nhead, value_len, head_dim]\n",
        "\n",
        "        # attention weight 계산\n",
        "        weight = torch.matmul(Q, K.transpose(2, 3)) / np.sqrt(self.head_dim)\n",
        "\n",
        "        # weight: [batch_size, nhead, query_len, key_len]\n",
        "\n",
        "        if mask is not None:\n",
        "            # mask 가 true 면 -1e9로 하여 softmax 값 0으로.\n",
        "            weight = weight.masked_fill(mask, -1e9)\n",
        "\n",
        "        attention = torch.softmax(weight, dim=-1) # TODO : softmax -1?\n",
        "\n",
        "        # attention: [batch_size, nhead, query_len, key_len]\n",
        "\n",
        "        # context vector 계산\n",
        "        c = torch.matmul(self.dropout(attention), V)\n",
        "\n",
        "        # c: [batch_size, nhead, query_len, head_dim]\n",
        "\n",
        "        c = c.transpose(1, 2)\n",
        "\n",
        "        # c: [batch_size, query_len, nhead, head_dim]\n",
        "\n",
        "        # concat\n",
        "        c = c.reshape(batch_size, query_len, self.d_model)\n",
        "\n",
        "        # c: [batch_size, query_len, d_model]\n",
        "\n",
        "        output = self.oLinear(c)\n",
        "\n",
        "        # output: [batch_size, query_len, d_model]\n",
        "\n",
        "        return output, attention"
      ],
      "execution_count": 333,
      "outputs": []
    },
    {
      "cell_type": "markdown",
      "metadata": {
        "id": "y9mShNXXUXhh"
      },
      "source": [
        "# Position-wise Feed Forward Layer"
      ]
    },
    {
      "cell_type": "code",
      "metadata": {
        "id": "yBXPWolrUeYj"
      },
      "source": [
        "class PositionWiseFeedForwardLayer(nn.Module):\n",
        "    def __init__(self, d_model, ff_dim, dropout_ratio):\n",
        "        super().__init__()\n",
        "\n",
        "        self.linear1 = nn.Linear(d_model, ff_dim)\n",
        "        self.linear2 = nn.Linear(ff_dim, d_model)\n",
        "\n",
        "        self.dropout = nn.Dropout(dropout_ratio)\n",
        "\n",
        "    def forward(self, x):\n",
        "\n",
        "        # x: [batch_size, seq_len, d_model]\n",
        "\n",
        "        x = self.dropout(torch.relu(self.linear1(x)))\n",
        "\n",
        "        # x: [batch_size, seq_len, ff_dim]\n",
        "\n",
        "        x = self.linear2(x)\n",
        "\n",
        "        # x: [batch_size, seq_len, d_model]\n",
        "\n",
        "        return x"
      ],
      "execution_count": 334,
      "outputs": []
    },
    {
      "cell_type": "markdown",
      "metadata": {
        "id": "z4hDc3YiUgXZ"
      },
      "source": [
        "# Encoder Layer"
      ]
    },
    {
      "cell_type": "code",
      "metadata": {
        "id": "uTPD0jEbe1bx"
      },
      "source": [
        "class EncoderLayer(nn.Module):\n",
        "    def __init__(self, d_model, nhead, ff_dim, dropout_ratio):\n",
        "        super().__init__()\n",
        "\n",
        "        self.layerNorm1 = nn.LayerNorm(d_model)\n",
        "        self.layerNorm2 = nn.LayerNorm(d_model)\n",
        "        self.multiHeadAttentionLayer = MultiHeadAttentionLayer(d_model, nhead, dropout_ratio)\n",
        "        self.positionWiseFeedForward = PositionWiseFeedForwardLayer(d_model, ff_dim, dropout_ratio)\n",
        "        self.dropout = nn.Dropout(dropout_ratio)\n",
        "\n",
        "    def forward(self, src, src_mask):\n",
        "\n",
        "        # src: [batch_size, src_len, d_model]\n",
        "        # src_mask: [batch_size, src_len]\n",
        "\n",
        "        # self attention 이므로 query, key, value 전부 동일\n",
        "        _src, _ = self.multiHeadAttentionLayer(src, src, src, src_mask)\n",
        "\n",
        "        # dropout to the output of each sub-layer, before it is added to the sub-layer input and normalized\n",
        "        src = self.layerNorm1(src + self.dropout(_src))\n",
        "\n",
        "        # src: [batch_size, src_len, d_model]\n",
        "\n",
        "        _src = self.positionWiseFeedForward(src)\n",
        "\n",
        "        # dropout to the output of each sub-layer, before it is added to the sub-layer input and normalized\n",
        "        src = self.layerNorm2(src + self.dropout(_src))\n",
        "\n",
        "        # src: [batch_size, src_len, d_model]\n",
        "\n",
        "        return src"
      ],
      "execution_count": 335,
      "outputs": []
    },
    {
      "cell_type": "markdown",
      "metadata": {
        "id": "Gz9_mr_kUimN"
      },
      "source": [
        "# Encoder"
      ]
    },
    {
      "cell_type": "code",
      "metadata": {
        "id": "LAd_op0bVhn-"
      },
      "source": [
        "class Encoder(nn.Module):\n",
        "    def __init__(self, input_dim, d_model, n_layers, nhead, ff_dim, dropout_ratio):\n",
        "        super().__init__()\n",
        "\n",
        "        # EncoderLayer 을 n_layers 만큼 반복.\n",
        "        self.layers = nn.ModuleList([EncoderLayer(d_model, nhead, ff_dim, dropout_ratio) for _ in range(n_layers)])\n",
        "\n",
        "    def forward(self, src, src_mask):\n",
        "\n",
        "        # src: [batch_size, src_len]\n",
        "        # src_mask: [batch_size, src_len]\n",
        "\n",
        "        for layer in self.layers:\n",
        "            src = layer(src, src_mask)\n",
        "\n",
        "        # src: [batch_size, src_len, d_model]\n",
        "\n",
        "        return src"
      ],
      "execution_count": 336,
      "outputs": []
    },
    {
      "cell_type": "markdown",
      "metadata": {
        "id": "htBsuMIRUkBk"
      },
      "source": [
        "# Decoder Layer"
      ]
    },
    {
      "cell_type": "code",
      "metadata": {
        "id": "0jn4VCWdXhK5"
      },
      "source": [
        "class DecoderLayer(nn.Module):\n",
        "    def __init__(self, d_model, nhead, ff_dim, dropout_ratio):\n",
        "        super().__init__()\n",
        "\n",
        "        self.layerNorm1 = nn.LayerNorm(d_model)\n",
        "        self.layerNorm2 = nn.LayerNorm(d_model)\n",
        "        self.layerNorm3 = nn.LayerNorm(d_model)\n",
        "        self.multiHeadAttentionLayer1 = MultiHeadAttentionLayer(d_model, nhead, dropout_ratio)\n",
        "        self.multiHeadAttentionLayer2= MultiHeadAttentionLayer(d_model, nhead, dropout_ratio)\n",
        "        self.positionWiseFeedForward = PositionWiseFeedForwardLayer(d_model, ff_dim, dropout_ratio)\n",
        "        self.dropout = nn.Dropout(dropout_ratio)\n",
        "\n",
        "    def forward(self, tgt, enc_src, tgt_mask, src_mask):\n",
        "\n",
        "        # tgt: [batch_size, tgt_len, d_model]\n",
        "        # enc_src: [batch_size, src_len, d_model]\n",
        "        # tgt_mask: [batch_size, tgt_len]\n",
        "        # src_mask: [batch_size, src_len]\n",
        "\n",
        "        # self attention\n",
        "        _tgt, _ = self.multiHeadAttentionLayer1(tgt, tgt, tgt, tgt_mask)\n",
        "\n",
        "        # dropout to the output of each sub-layer, before it is added to the sub-layer input and normalized\n",
        "        tgt = self.layerNorm1(tgt + self.dropout(_tgt))\n",
        "\n",
        "        # tgt: [batch_size, tgt_len, d_model]\n",
        "\n",
        "        # encoder attention\n",
        "        # decoder 의 query, encdoer 의 key, value 로 attention\n",
        "        _tgt, attention = self.multiHeadAttentionLayer2(tgt, enc_src, enc_src, src_mask)\n",
        "\n",
        "        # dropout to the output of each sub-layer, before it is added to the sub-layer input and normalized\n",
        "        tgt = self.layerNorm2(tgt + self.dropout(_tgt))\n",
        "\n",
        "        # tgt: [batch_size, tgt_len, d_model]\n",
        "\n",
        "        # positionwise feedforward\n",
        "        _tgt = self.positionWiseFeedForward(tgt)\n",
        "\n",
        "        # dropout to the output of each sub-layer, before it is added to the sub-layer input and normalized\n",
        "        tgt = self.layerNorm3(tgt + self.dropout(_tgt))\n",
        "\n",
        "        # tgt: [batch_size, tgt_len, d_model]\n",
        "        # attention: [batch_size, nhead, tgt_len, src_len]\n",
        "\n",
        "        return tgt, attention"
      ],
      "execution_count": 337,
      "outputs": []
    },
    {
      "cell_type": "markdown",
      "metadata": {
        "id": "JNGeYlLSUsKx"
      },
      "source": [
        "# Decoder"
      ]
    },
    {
      "cell_type": "code",
      "metadata": {
        "id": "X64at7IuWQcm"
      },
      "source": [
        "class Decoder(nn.Module):\n",
        "    def __init__(self, output_dim, d_model, n_layers, nhead, ff_dim, dropout_ratio):\n",
        "        super().__init__()\n",
        "\n",
        "        self.layers = nn.ModuleList([DecoderLayer(d_model, nhead, ff_dim, dropout_ratio) for _ in range(n_layers)])\n",
        "\n",
        "        self.fc_out = nn.Linear(d_model, output_dim)\n",
        "\n",
        "        self.dropout = nn.Dropout(dropout_ratio)\n",
        "\n",
        "    def forward(self, tgt, enc_src, tgt_mask, src_mask):\n",
        "\n",
        "        # tgt: [batch_size, tgt_len]\n",
        "        # enc_src: [batch_size, src_len, d_model]\n",
        "        # tgt_mask: [batch_size, tgt_len]\n",
        "        # src_mask: [batch_size, src_len]\n",
        "\n",
        "        batch_size = tgt.shape[0]\n",
        "        tgt_len = tgt.shape[1]\n",
        "\n",
        "        # tgt: [batch_size, tgt_len, d_model]\n",
        "\n",
        "        for layer in self.layers:\n",
        "            tgt, attention = layer(tgt, enc_src, tgt_mask, src_mask)\n",
        "\n",
        "        # tgt: [batch_size, tgt_len, d_model]\n",
        "        # attention: [batch_size, nhead, tgt_len, src_len]\n",
        "\n",
        "        output = self.fc_out(tgt)\n",
        "\n",
        "        # output: [batch_size, tgt_len, output_dim]\n",
        "\n",
        "        return output, attention"
      ],
      "execution_count": 338,
      "outputs": []
    },
    {
      "cell_type": "markdown",
      "metadata": {
        "id": "H95PTxccUtnV"
      },
      "source": [
        "# Token & Positional Embedding"
      ]
    },
    {
      "cell_type": "code",
      "metadata": {
        "id": "daBXLIF27xkC"
      },
      "source": [
        "class TokPosEmbedding(nn.Module):\n",
        "  def __init__(self, input_dim, d_model, dropout_ratio):\n",
        "    super().__init__()\n",
        "    self.tokEmbedding = nn.Embedding(input_dim, d_model)\n",
        "    self.posEmbedding = nn.Embedding(input_dim, d_model) # 위치 임베딩을 고정 함수가 아니라 학습하는 형태로 구현.\n",
        "    self.d_model = d_model\n",
        "    self.dropout = nn.Dropout(dropout_ratio)\n",
        "\n",
        "  def forward(self, src):\n",
        "    batch_size = src.shape[0]\n",
        "    src_len = src.shape[1]\n",
        "\n",
        "    pos = torch.arange(0, src_len).unsqueeze(0).repeat(batch_size, 1).to(device) # 0 ~ src_len 등차 수열값 을 bactch 한개와 동일한 shape으로 생성\n",
        "    \n",
        "    # pos: [batch_size, src_len]\n",
        "\n",
        "    src = self.dropout((self.tokEmbedding(src) * np.sqrt(self.d_model)) + self.posEmbedding(pos))\n",
        "\n",
        "    # src: [batch_size, src_len, d_model]\n",
        "\n",
        "    return src"
      ],
      "execution_count": 339,
      "outputs": []
    },
    {
      "cell_type": "markdown",
      "metadata": {
        "id": "dEq9zN7rU1gn"
      },
      "source": [
        "# Transformer"
      ]
    },
    {
      "cell_type": "code",
      "metadata": {
        "id": "hBGN8VyvW0Et"
      },
      "source": [
        "class Transformer(nn.Module):\n",
        "    def __init__(self, input_dim, output_dim, d_model, n_layers, nhead, ff_dim, dropout_ratio):\n",
        "        super().__init__()\n",
        "\n",
        "        self.encEmbedding = TokPosEmbedding(input_dim, d_model, dropout_ratio)\n",
        "        self.encoder = Encoder(input_dim, d_model, n_layers, nhead, ff_dim, dropout_ratio)\n",
        "        self.decEmbedding = TokPosEmbedding(output_dim, d_model, dropout_ratio)\n",
        "        self.decoder = Decoder(output_dim, d_model, n_layers, nhead, ff_dim, dropout_ratio)\n",
        "\n",
        "    def make_src_mask(self, src, pad):\n",
        "\n",
        "        # src: [batch_size, src_len]\n",
        "\n",
        "        # pad mask\n",
        "        src_mask = (src.data.eq(pad)).unsqueeze(1).unsqueeze(2)\n",
        "\n",
        "        # src_mask: [batch_size, 1, 1, src_len]\n",
        "        return src_mask\n",
        "\n",
        "    def make_tgt_mask(self, tgt, pad):\n",
        "        \n",
        "        # tgt: [batch_size, tgt_len]\n",
        "\n",
        "        tgt_pad_mask = (tgt.data.eq(pad)).unsqueeze(1).unsqueeze(2)\n",
        "\n",
        "        # tgt_pad_mask: [batch_size, 1, 1, tgt_len]\n",
        "\n",
        "        tgt_len = tgt.shape[1]\n",
        "\n",
        "        # chitting 방지 mask\n",
        "        tgt_sub_mask = torch.triu(torch.ones((tgt_len, tgt_len))).bool().to(device)\n",
        "\n",
        "        # tgt_sub_mask: [tgt_len, tgt_len] (upper triangular square matrix 형태)\n",
        "\n",
        "        # mask 값이 true 면 fill 할 것이므로 pad_mask 와 or 연산.\n",
        "        tgt_mask = tgt_pad_mask | tgt_sub_mask\n",
        "\n",
        "        # tgt_mask: [batch_size, 1, tgt_len, tgt_len]\n",
        "\n",
        "        return tgt_mask\n",
        "\n",
        "    def forward(self, src, tgt, pad):\n",
        "\n",
        "        # src: [batch_size, src_len]\n",
        "        # tgt: [batch_size, tgt_len]\n",
        "\n",
        "        src_mask = self.make_src_mask(src, pad)\n",
        "        tgt_mask = self.make_tgt_mask(tgt, pad)\n",
        "\n",
        "        # src_mask: [batch_size, 1, 1, src_len]\n",
        "        # tgt_mask: [batch_size, 1, tgt_len, tgt_len]\n",
        "\n",
        "        src = self.encEmbedding(src)\n",
        "        tgt = self.decEmbedding(tgt)\n",
        "\n",
        "        enc_src = self.encoder(src, src_mask)\n",
        "\n",
        "        # enc_src: [batch_size, src_len, d_model]\n",
        "\n",
        "        output, attention = self.decoder(tgt, enc_src, tgt_mask, src_mask)\n",
        "\n",
        "        # output: [batch_size, tgt_len, output_dim]\n",
        "        # attention: [batch_size, nhead, tgt_len, src_len]\n",
        "\n",
        "        return output, attention\n",
        "\n",
        "    def generate(self, src, start_id, sample_size, pad):\n",
        "\n",
        "        batch_size = src.shape[0]\n",
        "\n",
        "        src_mask = self.make_src_mask(src, pad)\n",
        "        src = self.encEmbedding(src)\n",
        "        enc_src = self.encoder(src, src_mask)\n",
        "      \n",
        "        sampled_tensor = torch.tensor([start_id], dtype=dtype).unsqueeze(0).repeat(batch_size, 1).to(device)\n",
        "        for _ in range(sample_size):\n",
        "\n",
        "          tgt_mask = self.make_tgt_mask(sampled_tensor, pad)\n",
        "          tgt = self.decEmbedding(sampled_tensor)\n",
        "          probabilities, attention = self.decoder(tgt, enc_src, tgt_mask, src_mask)\n",
        "\n",
        "          pred_token = probabilities.argmax(2)[:,-1].unsqueeze(1)\n",
        "\n",
        "          sampled_tensor = torch.cat((sampled_tensor, pred_token), 1) # pred sentence 에 concat\n",
        "\n",
        "        return sampled_tensor, attention\n"
      ],
      "execution_count": 340,
      "outputs": []
    },
    {
      "cell_type": "markdown",
      "metadata": {
        "id": "zjn6o7KAU41P"
      },
      "source": [
        "# Date format Dataset"
      ]
    },
    {
      "cell_type": "code",
      "metadata": {
        "colab": {
          "base_uri": "https://localhost:8080/"
        },
        "id": "dsb2_dgXFLGm",
        "outputId": "f380594f-bfd3-4021-83e1-781b26a1a156"
      },
      "source": [
        "from google.colab import drive\n",
        "drive.mount('/content/drive')"
      ],
      "execution_count": 341,
      "outputs": [
        {
          "output_type": "stream",
          "text": [
            "Drive already mounted at /content/drive; to attempt to forcibly remount, call drive.mount(\"/content/drive\", force_remount=True).\n"
          ],
          "name": "stdout"
        }
      ]
    },
    {
      "cell_type": "code",
      "metadata": {
        "colab": {
          "base_uri": "https://localhost:8080/"
        },
        "id": "V20NCZ8sE45D",
        "outputId": "40a08914-e9e4-4cf0-b1ba-6059745ec906"
      },
      "source": [
        "import os\n",
        "os.chdir('/content/drive/MyDrive/dataset')\n",
        "import sequence\n",
        "\n",
        "# google mount 한 뒤 '/content/drive/MyDrive/' 에 dataset 저장 후 실행.\n",
        "\n",
        "(x_train, t_train), (x_test, t_test) = sequence.load_data('date.txt')\n",
        "# char -> id & id -> char dictionary\n",
        "char_to_id, id_to_char = sequence.get_vocab()\n",
        "\n",
        "print(x_train.shape)\n",
        "print(t_train.shape)\n",
        "print(x_test.shape)\n",
        "print(t_test.shape)\n",
        "print()\n",
        "\n",
        "# 이미 id 화 되어있다.\n",
        "print('question(id) : ', x_train[0])\n",
        "print('correct(id)  : ',t_train[0])\n",
        "print()\n",
        "\n",
        "# sequence 확인 # ' ' : pad, '_' : start_char\n",
        "print('question(char) : ', ' '.join([id_to_char[int(c)] for c in x_train[0]]))\n",
        "print('correct(char)  : ', ' '.join([id_to_char[int(c)] for c in t_train[0]]))\n",
        "\n",
        "vocab_size = len(char_to_id)\n",
        "x_train = torch.tensor(x_train, dtype=dtype)\n",
        "t_train = torch.tensor(t_train, dtype=dtype)\n",
        "x_test = torch.tensor(x_test, dtype=dtype)\n",
        "t_test = torch.tensor(t_test, dtype=dtype)\n",
        "pad = 7 # pad token"
      ],
      "execution_count": 342,
      "outputs": [
        {
          "output_type": "stream",
          "text": [
            "(45000, 29)\n",
            "(45000, 11)\n",
            "(5000, 29)\n",
            "(5000, 11)\n",
            "\n",
            "question(id) :  [ 8 22  9 22  9  8  7  7  7  7  7  7  7  7  7  7  7  7  7  7  7  7  7  7\n",
            "  7  7  7  7  7]\n",
            "correct(id)  :  [14 11 12  9  8 15 16  8 15 16  9]\n",
            "\n",
            "question(char) :  2 / 7 / 7 2                                              \n",
            "correct(char)  :  _ 1 9 7 2 - 0 2 - 0 7\n"
          ],
          "name": "stdout"
        }
      ]
    },
    {
      "cell_type": "markdown",
      "metadata": {
        "id": "0Iig2J1FVKG2"
      },
      "source": [
        "# hyperparameter"
      ]
    },
    {
      "cell_type": "code",
      "metadata": {
        "id": "IWu02slRFGUH"
      },
      "source": [
        "batch_size = 128\n",
        "epoch = 20\n",
        "input_dim = output_dim = vocab_size\n",
        "d_model = 32\n",
        "n_layers = 1\n",
        "nhead = 2\n",
        "ff_dim = 1024\n",
        "dropout_ratio = 0.1\n",
        "learning_rate = 0.0025"
      ],
      "execution_count": 343,
      "outputs": []
    },
    {
      "cell_type": "code",
      "metadata": {
        "id": "rVgG8VOYXbIk"
      },
      "source": [
        "model = Transformer(input_dim, output_dim, d_model, n_layers, nhead, ff_dim, dropout_ratio)"
      ],
      "execution_count": 344,
      "outputs": []
    },
    {
      "cell_type": "code",
      "metadata": {
        "id": "m6-92JSlXrwM"
      },
      "source": [
        "import torch.optim as optim\n",
        "\n",
        "optimizer = torch.optim.Adam(model.parameters(), learning_rate)\n",
        "\n",
        "criterion = nn.CrossEntropyLoss()"
      ],
      "execution_count": 345,
      "outputs": []
    },
    {
      "cell_type": "markdown",
      "metadata": {
        "id": "MAajdxAWZP2N"
      },
      "source": [
        "# Loader"
      ]
    },
    {
      "cell_type": "code",
      "metadata": {
        "id": "dcaPduPTZREP"
      },
      "source": [
        "from torch.utils.data import DataLoader\n",
        "\n",
        "loader_x_train = DataLoader(x_train, batch_size=batch_size)\n",
        "loader_t_train = DataLoader(t_train, batch_size=batch_size)\n",
        "loader_x_test = DataLoader(x_test, batch_size=batch_size)\n",
        "loader_t_test = DataLoader(t_test, batch_size=batch_size)"
      ],
      "execution_count": 346,
      "outputs": []
    },
    {
      "cell_type": "markdown",
      "metadata": {
        "id": "MqsZHm5eVQOd"
      },
      "source": [
        "# Trainer"
      ]
    },
    {
      "cell_type": "code",
      "metadata": {
        "id": "Mwca5L0PakP-"
      },
      "source": [
        "def trainer(model, optimizer, epochs, pad):\n",
        "\n",
        "    pad = torch.tensor([pad], dtype=dtype).to(device)\n",
        "\n",
        "    model.train()\n",
        "    model = model.to(device)\n",
        "    for e in range(epochs):\n",
        "        for iters, (batch_x, batch_t) in enumerate(zip(loader_x_train, loader_t_train)):\n",
        "\n",
        "            batch_x = batch_x.to(device)\n",
        "            batch_t = batch_t.to(device)\n",
        "\n",
        "            # correct 값의 마지막 원소 배제 (end token 없음. 마지막 원소 다음 token 학습할 필요 x)\n",
        "            scores, _ = model(batch_x, batch_t[:, :-1], pad)\n",
        "\n",
        "            scores_dim = scores.shape[-1]\n",
        "\n",
        "            scores = scores.reshape(-1, scores_dim)\n",
        "            \n",
        "            # correct 값의 첫 원소 배제\n",
        "            batch_t = batch_t[:, 1:].reshape(-1)\n",
        "\n",
        "            # scores  : [batch_size * tgt_len - 1, output_dim]\n",
        "            # batch_t : [batch_size * tgt_len - 1]\n",
        "\n",
        "            loss = criterion(scores, batch_t)\n",
        "\n",
        "            optimizer.zero_grad()\n",
        "\n",
        "            loss.backward()\n",
        "\n",
        "            torch.nn.utils.clip_grad_norm_(model.parameters(), 5.0) # gradient clippling\n",
        "\n",
        "            optimizer.step()\n",
        "\n",
        "            if iters % 100 == 0:\n",
        "                print('epoch[%d/%d] loss = %.4f' % (e+1, epochs, loss.item()))"
      ],
      "execution_count": 347,
      "outputs": []
    },
    {
      "cell_type": "markdown",
      "metadata": {
        "id": "S5DUs38oVT0V"
      },
      "source": [
        "# Train"
      ]
    },
    {
      "cell_type": "code",
      "metadata": {
        "colab": {
          "base_uri": "https://localhost:8080/"
        },
        "id": "xRJTQ6YgF_4D",
        "outputId": "f7ce8f3e-cea3-4dc1-85d3-7615f4594d37"
      },
      "source": [
        "trainer(model, optimizer, epoch, pad)"
      ],
      "execution_count": 348,
      "outputs": [
        {
          "output_type": "stream",
          "text": [
            "epoch[1/20] loss = 4.2456\n",
            "epoch[1/20] loss = 0.9214\n",
            "epoch[1/20] loss = 0.6292\n",
            "epoch[1/20] loss = 0.4453\n",
            "epoch[2/20] loss = 0.4355\n",
            "epoch[2/20] loss = 0.3314\n",
            "epoch[2/20] loss = 0.2582\n",
            "epoch[2/20] loss = 0.1912\n",
            "epoch[3/20] loss = 0.1804\n",
            "epoch[3/20] loss = 0.2014\n",
            "epoch[3/20] loss = 0.1899\n",
            "epoch[3/20] loss = 0.1438\n",
            "epoch[4/20] loss = 0.1158\n",
            "epoch[4/20] loss = 0.1154\n",
            "epoch[4/20] loss = 0.1341\n",
            "epoch[4/20] loss = 0.0814\n",
            "epoch[5/20] loss = 0.1058\n",
            "epoch[5/20] loss = 0.0943\n",
            "epoch[5/20] loss = 0.0906\n",
            "epoch[5/20] loss = 0.0717\n",
            "epoch[6/20] loss = 0.0827\n",
            "epoch[6/20] loss = 0.0766\n",
            "epoch[6/20] loss = 0.0684\n",
            "epoch[6/20] loss = 0.0737\n",
            "epoch[7/20] loss = 0.0732\n",
            "epoch[7/20] loss = 0.0626\n",
            "epoch[7/20] loss = 0.0877\n",
            "epoch[7/20] loss = 0.0635\n",
            "epoch[8/20] loss = 0.0589\n",
            "epoch[8/20] loss = 0.0820\n",
            "epoch[8/20] loss = 0.0739\n",
            "epoch[8/20] loss = 0.0689\n",
            "epoch[9/20] loss = 0.0520\n",
            "epoch[9/20] loss = 0.0690\n",
            "epoch[9/20] loss = 0.0649\n",
            "epoch[9/20] loss = 0.0710\n",
            "epoch[10/20] loss = 0.0566\n",
            "epoch[10/20] loss = 0.0434\n",
            "epoch[10/20] loss = 0.0486\n",
            "epoch[10/20] loss = 0.0563\n",
            "epoch[11/20] loss = 0.0621\n",
            "epoch[11/20] loss = 0.0579\n",
            "epoch[11/20] loss = 0.0412\n",
            "epoch[11/20] loss = 0.0607\n",
            "epoch[12/20] loss = 0.0507\n",
            "epoch[12/20] loss = 0.0448\n",
            "epoch[12/20] loss = 0.0531\n",
            "epoch[12/20] loss = 0.0550\n",
            "epoch[13/20] loss = 0.0318\n",
            "epoch[13/20] loss = 0.0490\n",
            "epoch[13/20] loss = 0.0393\n",
            "epoch[13/20] loss = 0.0512\n",
            "epoch[14/20] loss = 0.0455\n",
            "epoch[14/20] loss = 0.0540\n",
            "epoch[14/20] loss = 0.0502\n",
            "epoch[14/20] loss = 0.0535\n",
            "epoch[15/20] loss = 0.0351\n",
            "epoch[15/20] loss = 0.0479\n",
            "epoch[15/20] loss = 0.0507\n",
            "epoch[15/20] loss = 0.0482\n",
            "epoch[16/20] loss = 0.0403\n",
            "epoch[16/20] loss = 0.0476\n",
            "epoch[16/20] loss = 0.0439\n",
            "epoch[16/20] loss = 0.0361\n",
            "epoch[17/20] loss = 0.0342\n",
            "epoch[17/20] loss = 0.0441\n",
            "epoch[17/20] loss = 0.0280\n",
            "epoch[17/20] loss = 0.0497\n",
            "epoch[18/20] loss = 0.0426\n",
            "epoch[18/20] loss = 0.0280\n",
            "epoch[18/20] loss = 0.0303\n",
            "epoch[18/20] loss = 0.0313\n",
            "epoch[19/20] loss = 0.0353\n",
            "epoch[19/20] loss = 0.0230\n",
            "epoch[19/20] loss = 0.0295\n",
            "epoch[19/20] loss = 0.0337\n",
            "epoch[20/20] loss = 0.0266\n",
            "epoch[20/20] loss = 0.0447\n",
            "epoch[20/20] loss = 0.0298\n",
            "epoch[20/20] loss = 0.0435\n"
          ],
          "name": "stdout"
        }
      ]
    },
    {
      "cell_type": "markdown",
      "metadata": {
        "id": "YeSc5TuMVVcy"
      },
      "source": [
        "# Checker"
      ]
    },
    {
      "cell_type": "code",
      "metadata": {
        "id": "lLTGhltgbOgR"
      },
      "source": [
        "def checker(loader_x, loader_t, model, pad):\n",
        "\n",
        "    pad = torch.tensor([pad], dtype=dtype).to(device)\n",
        "\n",
        "    model.eval()\n",
        "    with torch.no_grad():\n",
        "      correct_num = 0\n",
        "      for iters, (batch_x, batch_t) in enumerate(zip(loader_x, loader_t)):\n",
        "\n",
        "        batch_x = batch_x.to(device)\n",
        "        batch_t = batch_t.to(device)\n",
        "\n",
        "        start_id = batch_t[0,0]\n",
        "        correct = batch_t[:,1:]\n",
        "\n",
        "        predict, _ = model.generate(batch_x, start_id, correct.shape[1], pad)\n",
        "        predict = predict[:,1:]\n",
        "\n",
        "        correct_num += (predict == correct).sum()\n",
        "        \n",
        "    return correct_num"
      ],
      "execution_count": 349,
      "outputs": []
    },
    {
      "cell_type": "markdown",
      "metadata": {
        "id": "u1x5iY43VZIY"
      },
      "source": [
        "# Accuracy"
      ]
    },
    {
      "cell_type": "code",
      "metadata": {
        "colab": {
          "base_uri": "https://localhost:8080/"
        },
        "id": "Wdj6iQCfFWmU",
        "outputId": "7a60b7ba-621e-443b-f6c8-72e214dd844f"
      },
      "source": [
        "correct_num = checker(loader_x_train, loader_t_train, model, pad)\n",
        "acc = float(correct_num) / (t_train.shape[0] * (t_train.shape[1] - 1))\n",
        "print('train accuracy %.3f%%' % (acc * 100))\n",
        "\n",
        "correct_num = checker(loader_x_test, loader_t_test,model, pad)\n",
        "acc = float(correct_num) / (t_test.shape[0] * (t_test.shape[1] - 1))\n",
        "print('test accuracy %.3f%%' % (acc * 100))"
      ],
      "execution_count": 350,
      "outputs": [
        {
          "output_type": "stream",
          "text": [
            "train accuracy 99.033%\n",
            "test accuracy 98.982%\n"
          ],
          "name": "stdout"
        }
      ]
    },
    {
      "cell_type": "markdown",
      "metadata": {
        "id": "53RqchO4Vgbs"
      },
      "source": [
        "# Visualizing Attention"
      ]
    },
    {
      "cell_type": "code",
      "metadata": {
        "id": "Lj9G0PpRV4Vl"
      },
      "source": [
        "def visualize(attention_map, row_labels, column_labels):\n",
        "    fig = plt.figure(figsize=(20,5))\n",
        "    h = attention_map.shape[0]\n",
        "    for i, attention in enumerate(attention_map):\n",
        "      ax = fig.add_subplot(1, h, i+1)\n",
        "      ax.pcolor(attention, cmap=plt.cm.Greys_r, vmin=0.0, vmax=1.0)\n",
        "\n",
        "      ax.patch.set_facecolor('black')\n",
        "      ax.set_yticks(np.arange(attention.shape[0])+0.5, minor=False)\n",
        "      ax.set_xticks(np.arange(attention.shape[1])+0.5, minor=False)\n",
        "      ax.invert_yaxis()\n",
        "      ax.set_xticklabels(row_labels, minor=False)\n",
        "      ax.set_yticklabels(column_labels, minor=False)\n",
        "\n",
        "    plt.show()"
      ],
      "execution_count": 351,
      "outputs": []
    },
    {
      "cell_type": "markdown",
      "metadata": {
        "id": "EMSpb_31Xa6G"
      },
      "source": [
        "## (x, y) = (question, predict X nhead)\n",
        "### 학습 후 반복적으로 실행시켜 attention 이 잘 작동하는 것을 확인할 수 있다.\n",
        "### 가로 축 2개 head 마다의 attention, 세로 축으로 5개의 sample."
      ]
    },
    {
      "cell_type": "code",
      "metadata": {
        "colab": {
          "base_uri": "https://localhost:8080/",
          "height": 1000
        },
        "id": "GqHRrpcPV7OM",
        "outputId": "10bea2b4-6a4e-4b51-c829-d60a6635fe96"
      },
      "source": [
        "for i in range(10):\n",
        "  idx = [i]\n",
        "\n",
        "  question = x_test[idx].to(device)\n",
        "  correct = t_test[idx].to(device)\n",
        "  pad = torch.tensor([pad], dtype=dtype).to(device)\n",
        "\n",
        "  correct = correct.flatten()\n",
        "  # 머릿글자\n",
        "  start_id = correct[0]\n",
        "\n",
        "  correct = correct[1:]\n",
        "  with torch.no_grad():\n",
        "    predict, attention  = model.generate(question, start_id, len(correct), pad)\n",
        "  predict = predict[:,1:]\n",
        "\n",
        "  # 문자열로 변환\n",
        "  question = [id_to_char[int(c)] for c in question.flatten()]\n",
        "  correct = [id_to_char[int(c)] for c in correct.flatten()]\n",
        "  predict = [id_to_char[int(c)] for c in predict.flatten()]\n",
        "\n",
        "  visualize(attention.squeeze(0).cpu().numpy(), question, predict)"
      ],
      "execution_count": 352,
      "outputs": [
        {
          "output_type": "display_data",
          "data": {
            "image/png": "[encoded data removed]",
            "text/plain": [
              "<Figure size 1440x360 with 2 Axes>"
            ]
          },
          "metadata": {
            "tags": [],
            "needs_background": "light"
          }
        },
        {
          "output_type": "display_data",
          "data": {
            "image/png": "[encoded data removed]",
            "text/plain": [
              "<Figure size 1440x360 with 2 Axes>"
            ]
          },
          "metadata": {
            "tags": [],
            "needs_background": "light"
          }
        },
        {
          "output_type": "display_data",
          "data": {
            "image/png": "[encoded data removed]",
            "text/plain": [
              "<Figure size 1440x360 with 2 Axes>"
            ]
          },
          "metadata": {
            "tags": [],
            "needs_background": "light"
          }
        },
        {
          "output_type": "display_data",
          "data": {
            "image/png": "[encoded data removed]",
            "text/plain": [
              "<Figure size 1440x360 with 2 Axes>"
            ]
          },
          "metadata": {
            "tags": [],
            "needs_background": "light"
          }
        },
        {
          "output_type": "display_data",
          "data": {
            "image/png": "[encoded data removed]",
            "text/plain": [
              "<Figure size 1440x360 with 2 Axes>"
            ]
          },
          "metadata": {
            "tags": [],
            "needs_background": "light"
          }
        },
        {
          "output_type": "display_data",
          "data": {
            "image/png": "[encoded data removed]",
            "text/plain": [
              "<Figure size 1440x360 with 2 Axes>"
            ]
          },
          "metadata": {
            "tags": [],
            "needs_background": "light"
          }
        },
        {
          "output_type": "display_data",
          "data": {
            "image/png": "[encoded data removed]",
            "text/plain": [
              "<Figure size 1440x360 with 2 Axes>"
            ]
          },
          "metadata": {
            "tags": [],
            "needs_background": "light"
          }
        },
        {
          "output_type": "display_data",
          "data": {
            "image/png": "[encoded data removed]",
            "text/plain": [
              "<Figure size 1440x360 with 2 Axes>"
            ]
          },
          "metadata": {
            "tags": [],
            "needs_background": "light"
          }
        },
        {
          "output_type": "display_data",
          "data": {
            "image/png": "[encoded data removed]",
            "text/plain": [
              "<Figure size 1440x360 with 2 Axes>"
            ]
          },
          "metadata": {
            "tags": [],
            "needs_background": "light"
          }
        },
        {
          "output_type": "display_data",
          "data": {
            "image/png": "[encoded data removed]",
            "text/plain": [
              "<Figure size 1440x360 with 2 Axes>"
            ]
          },
          "metadata": {
            "tags": [],
            "needs_background": "light"
          }
        }
      ]
    }
  ]
}